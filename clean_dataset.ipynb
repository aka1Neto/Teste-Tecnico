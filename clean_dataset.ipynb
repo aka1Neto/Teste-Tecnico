{
  "cells": [
    {
      "cell_type": "code",
      "execution_count": 1,
      "metadata": {
        "id": "_LurRkKr5lkb"
      },
      "outputs": [],
      "source": [
        "# Importing necessary libraries\n",
        "\n",
        "import numpy as np\n",
        "import pandas as pd"
      ]
    },
    {
      "cell_type": "code",
      "execution_count": 2,
      "metadata": {
        "colab": {
          "base_uri": "https://localhost:8080/",
          "height": 689
        },
        "id": "TIw05SQS7Ncv",
        "outputId": "59878d31-0b6b-42ed-e4aa-c3c67c200512"
      },
      "outputs": [
        {
          "data": {
            "text/html": [
              "<div>\n",
              "<style scoped>\n",
              "    .dataframe tbody tr th:only-of-type {\n",
              "        vertical-align: middle;\n",
              "    }\n",
              "\n",
              "    .dataframe tbody tr th {\n",
              "        vertical-align: top;\n",
              "    }\n",
              "\n",
              "    .dataframe thead th {\n",
              "        text-align: right;\n",
              "    }\n",
              "</style>\n",
              "<table border=\"1\" class=\"dataframe\">\n",
              "  <thead>\n",
              "    <tr style=\"text-align: right;\">\n",
              "      <th></th>\n",
              "      <th>id</th>\n",
              "      <th>title</th>\n",
              "      <th>vote_average</th>\n",
              "      <th>vote_count</th>\n",
              "      <th>status</th>\n",
              "      <th>release_date</th>\n",
              "      <th>revenue</th>\n",
              "      <th>runtime</th>\n",
              "      <th>adult</th>\n",
              "      <th>backdrop_path</th>\n",
              "      <th>...</th>\n",
              "      <th>original_title</th>\n",
              "      <th>overview</th>\n",
              "      <th>popularity</th>\n",
              "      <th>poster_path</th>\n",
              "      <th>tagline</th>\n",
              "      <th>genres</th>\n",
              "      <th>production_companies</th>\n",
              "      <th>production_countries</th>\n",
              "      <th>spoken_languages</th>\n",
              "      <th>keywords</th>\n",
              "    </tr>\n",
              "  </thead>\n",
              "  <tbody>\n",
              "    <tr>\n",
              "      <th>0</th>\n",
              "      <td>27205</td>\n",
              "      <td>Inception</td>\n",
              "      <td>8.364</td>\n",
              "      <td>34495</td>\n",
              "      <td>Released</td>\n",
              "      <td>2010-07-15 00:00:00</td>\n",
              "      <td>825532764</td>\n",
              "      <td>148</td>\n",
              "      <td>False</td>\n",
              "      <td>/8ZTVqvKDQ8emSGUEMjsS4yHAwrp.jpg</td>\n",
              "      <td>...</td>\n",
              "      <td>Inception</td>\n",
              "      <td>Cobb, a skilled thief who commits corporate es...</td>\n",
              "      <td>83.952</td>\n",
              "      <td>/oYuLEt3zVCKq57qu2F8dT7NIa6f.jpg</td>\n",
              "      <td>Your mind is the scene of the crime.</td>\n",
              "      <td>Action, Science Fiction, Adventure</td>\n",
              "      <td>Legendary Pictures, Syncopy, Warner Bros. Pict...</td>\n",
              "      <td>United Kingdom, United States of America</td>\n",
              "      <td>English, French, Japanese, Swahili</td>\n",
              "      <td>rescue, mission, dream, airplane, paris, franc...</td>\n",
              "    </tr>\n",
              "    <tr>\n",
              "      <th>1</th>\n",
              "      <td>157336</td>\n",
              "      <td>Interstellar</td>\n",
              "      <td>8.417</td>\n",
              "      <td>32571</td>\n",
              "      <td>Released</td>\n",
              "      <td>2014-11-05 00:00:00</td>\n",
              "      <td>701729206</td>\n",
              "      <td>169</td>\n",
              "      <td>False</td>\n",
              "      <td>/pbrkL804c8yAv3zBZR4QPEafpAR.jpg</td>\n",
              "      <td>...</td>\n",
              "      <td>Interstellar</td>\n",
              "      <td>The adventures of a group of explorers who mak...</td>\n",
              "      <td>140.241</td>\n",
              "      <td>/gEU2QniE6E77NI6lCU6MxlNBvIx.jpg</td>\n",
              "      <td>Mankind was born on Earth. It was never meant ...</td>\n",
              "      <td>Adventure, Drama, Science Fiction</td>\n",
              "      <td>Legendary Pictures, Syncopy, Lynda Obst Produc...</td>\n",
              "      <td>United Kingdom, United States of America</td>\n",
              "      <td>English</td>\n",
              "      <td>rescue, future, spacecraft, race against time,...</td>\n",
              "    </tr>\n",
              "    <tr>\n",
              "      <th>2</th>\n",
              "      <td>155</td>\n",
              "      <td>The Dark Knight</td>\n",
              "      <td>8.512</td>\n",
              "      <td>30619</td>\n",
              "      <td>Released</td>\n",
              "      <td>2008-07-16 00:00:00</td>\n",
              "      <td>1004558444</td>\n",
              "      <td>152</td>\n",
              "      <td>False</td>\n",
              "      <td>/nMKdUUepR0i5zn0y1T4CsSB5chy.jpg</td>\n",
              "      <td>...</td>\n",
              "      <td>The Dark Knight</td>\n",
              "      <td>Batman raises the stakes in his war on crime. ...</td>\n",
              "      <td>130.643</td>\n",
              "      <td>/qJ2tW6WMUDux911r6m7haRef0WH.jpg</td>\n",
              "      <td>Welcome to a world without rules.</td>\n",
              "      <td>Drama, Action, Crime, Thriller</td>\n",
              "      <td>DC Comics, Legendary Pictures, Syncopy, Isobel...</td>\n",
              "      <td>United Kingdom, United States of America</td>\n",
              "      <td>English, Mandarin</td>\n",
              "      <td>joker, sadism, chaos, secret identity, crime f...</td>\n",
              "    </tr>\n",
              "    <tr>\n",
              "      <th>3</th>\n",
              "      <td>19995</td>\n",
              "      <td>Avatar</td>\n",
              "      <td>7.573</td>\n",
              "      <td>29815</td>\n",
              "      <td>Released</td>\n",
              "      <td>2009-12-15 00:00:00</td>\n",
              "      <td>2923706026</td>\n",
              "      <td>162</td>\n",
              "      <td>False</td>\n",
              "      <td>/vL5LR6WdxWPjLPFRLe133jXWsh5.jpg</td>\n",
              "      <td>...</td>\n",
              "      <td>Avatar</td>\n",
              "      <td>In the 22nd century, a paraplegic Marine is di...</td>\n",
              "      <td>79.932</td>\n",
              "      <td>/kyeqWdyUXW608qlYkRqosgbbJyK.jpg</td>\n",
              "      <td>Enter the world of Pandora.</td>\n",
              "      <td>Action, Adventure, Fantasy, Science Fiction</td>\n",
              "      <td>Dune Entertainment, Lightstorm Entertainment, ...</td>\n",
              "      <td>United States of America, United Kingdom</td>\n",
              "      <td>English, Spanish</td>\n",
              "      <td>future, society, culture clash, space travel, ...</td>\n",
              "    </tr>\n",
              "    <tr>\n",
              "      <th>4</th>\n",
              "      <td>24428</td>\n",
              "      <td>The Avengers</td>\n",
              "      <td>7.710</td>\n",
              "      <td>29166</td>\n",
              "      <td>Released</td>\n",
              "      <td>2012-04-25 00:00:00</td>\n",
              "      <td>1518815515</td>\n",
              "      <td>143</td>\n",
              "      <td>False</td>\n",
              "      <td>/9BBTo63ANSmhC4e6r62OJFuK2GL.jpg</td>\n",
              "      <td>...</td>\n",
              "      <td>The Avengers</td>\n",
              "      <td>When an unexpected enemy emerges and threatens...</td>\n",
              "      <td>98.082</td>\n",
              "      <td>/RYMX2wcKCBAr24UyPD7xwmjaTn.jpg</td>\n",
              "      <td>Some assembly required.</td>\n",
              "      <td>Science Fiction, Action, Adventure</td>\n",
              "      <td>Marvel Studios</td>\n",
              "      <td>United States of America</td>\n",
              "      <td>English, Hindi, Russian</td>\n",
              "      <td>new york city, superhero, shield, based on com...</td>\n",
              "    </tr>\n",
              "  </tbody>\n",
              "</table>\n",
              "<p>5 rows × 24 columns</p>\n",
              "</div>"
            ],
            "text/plain": [
              "       id            title  vote_average  vote_count    status  \\\n",
              "0   27205        Inception         8.364       34495  Released   \n",
              "1  157336     Interstellar         8.417       32571  Released   \n",
              "2     155  The Dark Knight         8.512       30619  Released   \n",
              "3   19995           Avatar         7.573       29815  Released   \n",
              "4   24428     The Avengers         7.710       29166  Released   \n",
              "\n",
              "          release_date     revenue  runtime  adult  \\\n",
              "0  2010-07-15 00:00:00   825532764      148  False   \n",
              "1  2014-11-05 00:00:00   701729206      169  False   \n",
              "2  2008-07-16 00:00:00  1004558444      152  False   \n",
              "3  2009-12-15 00:00:00  2923706026      162  False   \n",
              "4  2012-04-25 00:00:00  1518815515      143  False   \n",
              "\n",
              "                      backdrop_path  ...   original_title  \\\n",
              "0  /8ZTVqvKDQ8emSGUEMjsS4yHAwrp.jpg  ...        Inception   \n",
              "1  /pbrkL804c8yAv3zBZR4QPEafpAR.jpg  ...     Interstellar   \n",
              "2  /nMKdUUepR0i5zn0y1T4CsSB5chy.jpg  ...  The Dark Knight   \n",
              "3  /vL5LR6WdxWPjLPFRLe133jXWsh5.jpg  ...           Avatar   \n",
              "4  /9BBTo63ANSmhC4e6r62OJFuK2GL.jpg  ...     The Avengers   \n",
              "\n",
              "                                            overview popularity  \\\n",
              "0  Cobb, a skilled thief who commits corporate es...     83.952   \n",
              "1  The adventures of a group of explorers who mak...    140.241   \n",
              "2  Batman raises the stakes in his war on crime. ...    130.643   \n",
              "3  In the 22nd century, a paraplegic Marine is di...     79.932   \n",
              "4  When an unexpected enemy emerges and threatens...     98.082   \n",
              "\n",
              "                        poster_path  \\\n",
              "0  /oYuLEt3zVCKq57qu2F8dT7NIa6f.jpg   \n",
              "1  /gEU2QniE6E77NI6lCU6MxlNBvIx.jpg   \n",
              "2  /qJ2tW6WMUDux911r6m7haRef0WH.jpg   \n",
              "3  /kyeqWdyUXW608qlYkRqosgbbJyK.jpg   \n",
              "4   /RYMX2wcKCBAr24UyPD7xwmjaTn.jpg   \n",
              "\n",
              "                                             tagline  \\\n",
              "0               Your mind is the scene of the crime.   \n",
              "1  Mankind was born on Earth. It was never meant ...   \n",
              "2                  Welcome to a world without rules.   \n",
              "3                        Enter the world of Pandora.   \n",
              "4                            Some assembly required.   \n",
              "\n",
              "                                        genres  \\\n",
              "0           Action, Science Fiction, Adventure   \n",
              "1            Adventure, Drama, Science Fiction   \n",
              "2               Drama, Action, Crime, Thriller   \n",
              "3  Action, Adventure, Fantasy, Science Fiction   \n",
              "4           Science Fiction, Action, Adventure   \n",
              "\n",
              "                                production_companies  \\\n",
              "0  Legendary Pictures, Syncopy, Warner Bros. Pict...   \n",
              "1  Legendary Pictures, Syncopy, Lynda Obst Produc...   \n",
              "2  DC Comics, Legendary Pictures, Syncopy, Isobel...   \n",
              "3  Dune Entertainment, Lightstorm Entertainment, ...   \n",
              "4                                     Marvel Studios   \n",
              "\n",
              "                       production_countries  \\\n",
              "0  United Kingdom, United States of America   \n",
              "1  United Kingdom, United States of America   \n",
              "2  United Kingdom, United States of America   \n",
              "3  United States of America, United Kingdom   \n",
              "4                  United States of America   \n",
              "\n",
              "                     spoken_languages  \\\n",
              "0  English, French, Japanese, Swahili   \n",
              "1                             English   \n",
              "2                   English, Mandarin   \n",
              "3                    English, Spanish   \n",
              "4             English, Hindi, Russian   \n",
              "\n",
              "                                            keywords  \n",
              "0  rescue, mission, dream, airplane, paris, franc...  \n",
              "1  rescue, future, spacecraft, race against time,...  \n",
              "2  joker, sadism, chaos, secret identity, crime f...  \n",
              "3  future, society, culture clash, space travel, ...  \n",
              "4  new york city, superhero, shield, based on com...  \n",
              "\n",
              "[5 rows x 24 columns]"
            ]
          },
          "execution_count": 2,
          "metadata": {},
          "output_type": "execute_result"
        }
      ],
      "source": [
        "# Opening the dataset\n",
        "\n",
        "df = pd.read_csv(\"data/movies.csv\", encoding= 'utf-8')\n",
        "df.head()"
      ]
    },
    {
      "cell_type": "code",
      "execution_count": 3,
      "metadata": {
        "colab": {
          "base_uri": "https://localhost:8080/"
        },
        "id": "Pc8Ui4E4gscR",
        "outputId": "89f6289a-1189-43d9-e52f-b7d7d16adb4e"
      },
      "outputs": [
        {
          "name": "stdout",
          "output_type": "stream",
          "text": [
            "['id', 'title', 'vote_average', 'vote_count', 'status', 'release_date', 'revenue', 'runtime', 'adult', 'backdrop_path', 'budget', 'homepage', 'imdb_id', 'original_language', 'original_title', 'overview', 'popularity', 'poster_path', 'tagline', 'genres', 'production_companies', 'production_countries', 'spoken_languages', 'keywords']\n"
          ]
        }
      ],
      "source": [
        "# Analyzing dataframe columns\n",
        "\n",
        "print(list(df.columns))"
      ]
    },
    {
      "cell_type": "code",
      "execution_count": 4,
      "metadata": {
        "colab": {
          "base_uri": "https://localhost:8080/"
        },
        "id": "d0mOuq0Ohwh7",
        "outputId": "dbea6e98-e204-4ddd-d7d1-fbdc1acda4a5"
      },
      "outputs": [
        {
          "name": "stdout",
          "output_type": "stream",
          "text": [
            "<class 'pandas.core.frame.DataFrame'>\n",
            "RangeIndex: 180747 entries, 0 to 180746\n",
            "Data columns (total 24 columns):\n",
            " #   Column                Non-Null Count   Dtype  \n",
            "---  ------                --------------   -----  \n",
            " 0   id                    180747 non-null  int64  \n",
            " 1   title                 180747 non-null  object \n",
            " 2   vote_average          180747 non-null  float64\n",
            " 3   vote_count            180747 non-null  int64  \n",
            " 4   status                180747 non-null  object \n",
            " 5   release_date          180747 non-null  object \n",
            " 6   revenue               180747 non-null  int64  \n",
            " 7   runtime               180747 non-null  int64  \n",
            " 8   adult                 180747 non-null  bool   \n",
            " 9   backdrop_path         180747 non-null  object \n",
            " 10  budget                180747 non-null  int64  \n",
            " 11  homepage              180747 non-null  object \n",
            " 12  imdb_id               180747 non-null  object \n",
            " 13  original_language     180747 non-null  object \n",
            " 14  original_title        180747 non-null  object \n",
            " 15  overview              180747 non-null  object \n",
            " 16  popularity            180747 non-null  float64\n",
            " 17  poster_path           180747 non-null  object \n",
            " 18  tagline               180747 non-null  object \n",
            " 19  genres                180747 non-null  object \n",
            " 20  production_companies  180747 non-null  object \n",
            " 21  production_countries  180747 non-null  object \n",
            " 22  spoken_languages      180747 non-null  object \n",
            " 23  keywords              180747 non-null  object \n",
            "dtypes: bool(1), float64(2), int64(5), object(16)\n",
            "memory usage: 31.9+ MB\n"
          ]
        }
      ],
      "source": [
        "# Dataset information\n",
        "\n",
        "df.info()"
      ]
    },
    {
      "cell_type": "code",
      "execution_count": 5,
      "metadata": {},
      "outputs": [
        {
          "name": "stdout",
          "output_type": "stream",
          "text": [
            "(180747, 24)\n"
          ]
        }
      ],
      "source": [
        "print(df.shape)"
      ]
    },
    {
      "cell_type": "code",
      "execution_count": 6,
      "metadata": {},
      "outputs": [
        {
          "data": {
            "text/plain": [
              "(180747, 24)"
            ]
          },
          "execution_count": 6,
          "metadata": {},
          "output_type": "execute_result"
        }
      ],
      "source": [
        "# Removing duplicated data if any exists\n",
        "\n",
        "df = df.drop_duplicates(subset=['id', 'title'], keep='first')\n",
        "df.shape"
      ]
    },
    {
      "cell_type": "code",
      "execution_count": 7,
      "metadata": {
        "colab": {
          "base_uri": "https://localhost:8080/",
          "height": 458
        },
        "id": "xbF52toIjXVW",
        "outputId": "73c01ec6-2847-4ac8-c227-5cb9bf712087"
      },
      "outputs": [
        {
          "data": {
            "text/plain": [
              "0                                             Inception\n",
              "1                                          Interstellar\n",
              "2                                       The Dark Knight\n",
              "3                                                Avatar\n",
              "4                                          The Avengers\n",
              "                              ...                      \n",
              "180742                Kathy Griffin: Whores on Crutches\n",
              "180743    Six Degrees of Separation from Lilia Cuntapay\n",
              "180744                                    K1 Dynamite!!\n",
              "180745                             Death Penalty Priest\n",
              "180746            Why Does the Rooster Have Short Pants\n",
              "Name: title, Length: 180747, dtype: object"
            ]
          },
          "execution_count": 7,
          "metadata": {},
          "output_type": "execute_result"
        }
      ],
      "source": [
        "df['title']"
      ]
    },
    {
      "cell_type": "code",
      "execution_count": 8,
      "metadata": {
        "id": "3DAFbGiok0Nb"
      },
      "outputs": [],
      "source": [
        "# Converting 'title' column to string type\n",
        "\n",
        "df['title'] = df['title'].astype('string')"
      ]
    },
    {
      "cell_type": "code",
      "execution_count": 9,
      "metadata": {
        "colab": {
          "base_uri": "https://localhost:8080/"
        },
        "id": "ma0tGvCmlJ-D",
        "outputId": "1a67c3e7-4113-4902-82e9-1779d5668101"
      },
      "outputs": [
        {
          "name": "stdout",
          "output_type": "stream",
          "text": [
            "<class 'pandas.core.frame.DataFrame'>\n",
            "RangeIndex: 180747 entries, 0 to 180746\n",
            "Data columns (total 24 columns):\n",
            " #   Column                Non-Null Count   Dtype  \n",
            "---  ------                --------------   -----  \n",
            " 0   id                    180747 non-null  int64  \n",
            " 1   title                 180747 non-null  string \n",
            " 2   vote_average          180747 non-null  float64\n",
            " 3   vote_count            180747 non-null  int64  \n",
            " 4   status                180747 non-null  object \n",
            " 5   release_date          180747 non-null  object \n",
            " 6   revenue               180747 non-null  int64  \n",
            " 7   runtime               180747 non-null  int64  \n",
            " 8   adult                 180747 non-null  bool   \n",
            " 9   backdrop_path         180747 non-null  object \n",
            " 10  budget                180747 non-null  int64  \n",
            " 11  homepage              180747 non-null  object \n",
            " 12  imdb_id               180747 non-null  object \n",
            " 13  original_language     180747 non-null  object \n",
            " 14  original_title        180747 non-null  object \n",
            " 15  overview              180747 non-null  object \n",
            " 16  popularity            180747 non-null  float64\n",
            " 17  poster_path           180747 non-null  object \n",
            " 18  tagline               180747 non-null  object \n",
            " 19  genres                180747 non-null  object \n",
            " 20  production_companies  180747 non-null  object \n",
            " 21  production_countries  180747 non-null  object \n",
            " 22  spoken_languages      180747 non-null  object \n",
            " 23  keywords              180747 non-null  object \n",
            "dtypes: bool(1), float64(2), int64(5), object(15), string(1)\n",
            "memory usage: 31.9+ MB\n"
          ]
        }
      ],
      "source": [
        "df.info()"
      ]
    },
    {
      "cell_type": "code",
      "execution_count": 10,
      "metadata": {
        "colab": {
          "base_uri": "https://localhost:8080/"
        },
        "id": "4QI8SAZEmn9N",
        "outputId": "d4d902c6-03ca-43b5-cc08-d6f33273108c"
      },
      "outputs": [
        {
          "data": {
            "text/plain": [
              "array(['Released', 'Planned', 'Rumored'], dtype=object)"
            ]
          },
          "execution_count": 10,
          "metadata": {},
          "output_type": "execute_result"
        }
      ],
      "source": [
        "df['status'].unique()"
      ]
    },
    {
      "cell_type": "code",
      "execution_count": 11,
      "metadata": {
        "colab": {
          "base_uri": "https://localhost:8080/",
          "height": 303
        },
        "id": "wkolN7ftmn3c",
        "outputId": "cb068bc3-d3b1-415b-b312-dc1eb2adcd0d"
      },
      "outputs": [
        {
          "data": {
            "text/plain": [
              "status\n",
              "Released    180740\n",
              "Planned          6\n",
              "Rumored          1\n",
              "Name: count, dtype: int64"
            ]
          },
          "execution_count": 11,
          "metadata": {},
          "output_type": "execute_result"
        }
      ],
      "source": [
        "# Converting 'status' column to category type\n",
        "\n",
        "df['status'] = df['status'].astype('category')\n",
        "df['status'].value_counts()"
      ]
    },
    {
      "cell_type": "code",
      "execution_count": 12,
      "metadata": {
        "colab": {
          "base_uri": "https://localhost:8080/"
        },
        "id": "LJ0gCCe0nYEW",
        "outputId": "629e7c35-b6e9-4fc3-f8d4-6d211d0eb8f4"
      },
      "outputs": [
        {
          "name": "stdout",
          "output_type": "stream",
          "text": [
            "<class 'pandas.core.frame.DataFrame'>\n",
            "RangeIndex: 180747 entries, 0 to 180746\n",
            "Data columns (total 24 columns):\n",
            " #   Column                Non-Null Count   Dtype   \n",
            "---  ------                --------------   -----   \n",
            " 0   id                    180747 non-null  int64   \n",
            " 1   title                 180747 non-null  string  \n",
            " 2   vote_average          180747 non-null  float64 \n",
            " 3   vote_count            180747 non-null  int64   \n",
            " 4   status                180747 non-null  category\n",
            " 5   release_date          180747 non-null  object  \n",
            " 6   revenue               180747 non-null  int64   \n",
            " 7   runtime               180747 non-null  int64   \n",
            " 8   adult                 180747 non-null  bool    \n",
            " 9   backdrop_path         180747 non-null  object  \n",
            " 10  budget                180747 non-null  int64   \n",
            " 11  homepage              180747 non-null  object  \n",
            " 12  imdb_id               180747 non-null  object  \n",
            " 13  original_language     180747 non-null  object  \n",
            " 14  original_title        180747 non-null  object  \n",
            " 15  overview              180747 non-null  object  \n",
            " 16  popularity            180747 non-null  float64 \n",
            " 17  poster_path           180747 non-null  object  \n",
            " 18  tagline               180747 non-null  object  \n",
            " 19  genres                180747 non-null  object  \n",
            " 20  production_companies  180747 non-null  object  \n",
            " 21  production_countries  180747 non-null  object  \n",
            " 22  spoken_languages      180747 non-null  object  \n",
            " 23  keywords              180747 non-null  object  \n",
            "dtypes: bool(1), category(1), float64(2), int64(5), object(14), string(1)\n",
            "memory usage: 30.7+ MB\n"
          ]
        }
      ],
      "source": [
        "df.info()"
      ]
    },
    {
      "cell_type": "code",
      "execution_count": 13,
      "metadata": {
        "colab": {
          "base_uri": "https://localhost:8080/",
          "height": 458
        },
        "id": "2n0VVj2rmAwd",
        "outputId": "568a94d0-93f1-4aa4-c4b2-299397a50dd6"
      },
      "outputs": [
        {
          "data": {
            "text/plain": [
              "0         2010-07-15 00:00:00\n",
              "1         2014-11-05 00:00:00\n",
              "2         2008-07-16 00:00:00\n",
              "3         2009-12-15 00:00:00\n",
              "4         2012-04-25 00:00:00\n",
              "                 ...         \n",
              "180742    2010-11-02 00:00:00\n",
              "180743    2012-10-31 00:00:00\n",
              "180744    2009-12-31 00:00:00\n",
              "180745    1982-08-03 00:00:00\n",
              "180746    1966-02-05 00:00:00\n",
              "Name: release_date, Length: 180747, dtype: object"
            ]
          },
          "execution_count": 13,
          "metadata": {},
          "output_type": "execute_result"
        }
      ],
      "source": [
        "df['release_date']"
      ]
    },
    {
      "cell_type": "code",
      "execution_count": 14,
      "metadata": {
        "id": "hYL2HJnYmILK"
      },
      "outputs": [],
      "source": [
        "# Converting 'release-date' column to datetime type\n",
        "\n",
        "df['release_date'] = pd.to_datetime(df['release_date'], errors='coerce')"
      ]
    },
    {
      "cell_type": "code",
      "execution_count": 15,
      "metadata": {
        "colab": {
          "base_uri": "https://localhost:8080/"
        },
        "id": "njMGkkMrnmAO",
        "outputId": "c1baae05-6207-407d-a9fe-9abe2157b64c"
      },
      "outputs": [
        {
          "name": "stdout",
          "output_type": "stream",
          "text": [
            "<class 'pandas.core.frame.DataFrame'>\n",
            "RangeIndex: 180747 entries, 0 to 180746\n",
            "Data columns (total 24 columns):\n",
            " #   Column                Non-Null Count   Dtype         \n",
            "---  ------                --------------   -----         \n",
            " 0   id                    180747 non-null  int64         \n",
            " 1   title                 180747 non-null  string        \n",
            " 2   vote_average          180747 non-null  float64       \n",
            " 3   vote_count            180747 non-null  int64         \n",
            " 4   status                180747 non-null  category      \n",
            " 5   release_date          180267 non-null  datetime64[ns]\n",
            " 6   revenue               180747 non-null  int64         \n",
            " 7   runtime               180747 non-null  int64         \n",
            " 8   adult                 180747 non-null  bool          \n",
            " 9   backdrop_path         180747 non-null  object        \n",
            " 10  budget                180747 non-null  int64         \n",
            " 11  homepage              180747 non-null  object        \n",
            " 12  imdb_id               180747 non-null  object        \n",
            " 13  original_language     180747 non-null  object        \n",
            " 14  original_title        180747 non-null  object        \n",
            " 15  overview              180747 non-null  object        \n",
            " 16  popularity            180747 non-null  float64       \n",
            " 17  poster_path           180747 non-null  object        \n",
            " 18  tagline               180747 non-null  object        \n",
            " 19  genres                180747 non-null  object        \n",
            " 20  production_companies  180747 non-null  object        \n",
            " 21  production_countries  180747 non-null  object        \n",
            " 22  spoken_languages      180747 non-null  object        \n",
            " 23  keywords              180747 non-null  object        \n",
            "dtypes: bool(1), category(1), datetime64[ns](1), float64(2), int64(5), object(13), string(1)\n",
            "memory usage: 30.7+ MB\n"
          ]
        }
      ],
      "source": [
        "df.info()"
      ]
    },
    {
      "cell_type": "code",
      "execution_count": 16,
      "metadata": {
        "colab": {
          "base_uri": "https://localhost:8080/",
          "height": 458
        },
        "id": "JmPyxxQPoQUK",
        "outputId": "58cffb46-f60c-45e6-8f05-5a3a7e7b4cc6"
      },
      "outputs": [
        {
          "data": {
            "text/plain": [
              "0         /8ZTVqvKDQ8emSGUEMjsS4yHAwrp.jpg\n",
              "1         /pbrkL804c8yAv3zBZR4QPEafpAR.jpg\n",
              "2         /nMKdUUepR0i5zn0y1T4CsSB5chy.jpg\n",
              "3         /vL5LR6WdxWPjLPFRLe133jXWsh5.jpg\n",
              "4         /9BBTo63ANSmhC4e6r62OJFuK2GL.jpg\n",
              "                        ...               \n",
              "180742                             Unknown\n",
              "180743    /aMqODpNunZFkAdlBQQaPTCRTFVl.jpg\n",
              "180744                             Unknown\n",
              "180745                             Unknown\n",
              "180746    /22yyxNKv1O5ei2o75eTiu8Qens0.jpg\n",
              "Name: backdrop_path, Length: 180747, dtype: object"
            ]
          },
          "execution_count": 16,
          "metadata": {},
          "output_type": "execute_result"
        }
      ],
      "source": [
        "df['backdrop_path']"
      ]
    },
    {
      "cell_type": "code",
      "execution_count": 17,
      "metadata": {
        "id": "BrcULnTqo5EV"
      },
      "outputs": [],
      "source": [
        "# Coverting 'backdrop_path' column to string type\n",
        "\n",
        "df['backdrop_path'] = df['backdrop_path'].astype('string')"
      ]
    },
    {
      "cell_type": "code",
      "execution_count": 18,
      "metadata": {
        "colab": {
          "base_uri": "https://localhost:8080/"
        },
        "id": "SuLU-6jFpkqq",
        "outputId": "fdcda859-6974-420c-ca60-44b7c74399cb"
      },
      "outputs": [
        {
          "name": "stdout",
          "output_type": "stream",
          "text": [
            "<class 'pandas.core.frame.DataFrame'>\n",
            "RangeIndex: 180747 entries, 0 to 180746\n",
            "Data columns (total 24 columns):\n",
            " #   Column                Non-Null Count   Dtype         \n",
            "---  ------                --------------   -----         \n",
            " 0   id                    180747 non-null  int64         \n",
            " 1   title                 180747 non-null  string        \n",
            " 2   vote_average          180747 non-null  float64       \n",
            " 3   vote_count            180747 non-null  int64         \n",
            " 4   status                180747 non-null  category      \n",
            " 5   release_date          180267 non-null  datetime64[ns]\n",
            " 6   revenue               180747 non-null  int64         \n",
            " 7   runtime               180747 non-null  int64         \n",
            " 8   adult                 180747 non-null  bool          \n",
            " 9   backdrop_path         180747 non-null  string        \n",
            " 10  budget                180747 non-null  int64         \n",
            " 11  homepage              180747 non-null  object        \n",
            " 12  imdb_id               180747 non-null  object        \n",
            " 13  original_language     180747 non-null  object        \n",
            " 14  original_title        180747 non-null  object        \n",
            " 15  overview              180747 non-null  object        \n",
            " 16  popularity            180747 non-null  float64       \n",
            " 17  poster_path           180747 non-null  object        \n",
            " 18  tagline               180747 non-null  object        \n",
            " 19  genres                180747 non-null  object        \n",
            " 20  production_companies  180747 non-null  object        \n",
            " 21  production_countries  180747 non-null  object        \n",
            " 22  spoken_languages      180747 non-null  object        \n",
            " 23  keywords              180747 non-null  object        \n",
            "dtypes: bool(1), category(1), datetime64[ns](1), float64(2), int64(5), object(12), string(2)\n",
            "memory usage: 30.7+ MB\n"
          ]
        }
      ],
      "source": [
        "df.info()"
      ]
    },
    {
      "cell_type": "code",
      "execution_count": 19,
      "metadata": {
        "colab": {
          "base_uri": "https://localhost:8080/",
          "height": 458
        },
        "id": "spadAxtjqO92",
        "outputId": "75641d40-13a4-437e-efda-b80453f8729d"
      },
      "outputs": [
        {
          "data": {
            "text/plain": [
              "0               https://www.warnerbros.com/movies/inception\n",
              "1                         http://www.interstellarmovie.net/\n",
              "2            https://www.warnerbros.com/movies/dark-knight/\n",
              "3                      https://www.avatar.com/movies/avatar\n",
              "4                https://www.marvel.com/movies/the-avengers\n",
              "                                ...                        \n",
              "180742                                              Unknown\n",
              "180743    https://www.facebook.com/sixdegreesofseparatio...\n",
              "180744                                              Unknown\n",
              "180745                                              Unknown\n",
              "180746    https://usfa.gov.ua/movie-catalog/chomu-u-pivn...\n",
              "Name: homepage, Length: 180747, dtype: object"
            ]
          },
          "execution_count": 19,
          "metadata": {},
          "output_type": "execute_result"
        }
      ],
      "source": [
        "df['homepage']"
      ]
    },
    {
      "cell_type": "code",
      "execution_count": 20,
      "metadata": {
        "id": "pvZsd_x4qa9Z"
      },
      "outputs": [],
      "source": [
        "# Converting 'homepage' column to string type\n",
        "\n",
        "df['homepage'] = df['homepage'].astype('string')"
      ]
    },
    {
      "cell_type": "code",
      "execution_count": 21,
      "metadata": {
        "colab": {
          "base_uri": "https://localhost:8080/"
        },
        "id": "lni8eF0sqy2o",
        "outputId": "30011a5e-e656-47b7-b407-269fbafcfbb5"
      },
      "outputs": [
        {
          "name": "stdout",
          "output_type": "stream",
          "text": [
            "<class 'pandas.core.frame.DataFrame'>\n",
            "RangeIndex: 180747 entries, 0 to 180746\n",
            "Data columns (total 24 columns):\n",
            " #   Column                Non-Null Count   Dtype         \n",
            "---  ------                --------------   -----         \n",
            " 0   id                    180747 non-null  int64         \n",
            " 1   title                 180747 non-null  string        \n",
            " 2   vote_average          180747 non-null  float64       \n",
            " 3   vote_count            180747 non-null  int64         \n",
            " 4   status                180747 non-null  category      \n",
            " 5   release_date          180267 non-null  datetime64[ns]\n",
            " 6   revenue               180747 non-null  int64         \n",
            " 7   runtime               180747 non-null  int64         \n",
            " 8   adult                 180747 non-null  bool          \n",
            " 9   backdrop_path         180747 non-null  string        \n",
            " 10  budget                180747 non-null  int64         \n",
            " 11  homepage              180747 non-null  string        \n",
            " 12  imdb_id               180747 non-null  object        \n",
            " 13  original_language     180747 non-null  object        \n",
            " 14  original_title        180747 non-null  object        \n",
            " 15  overview              180747 non-null  object        \n",
            " 16  popularity            180747 non-null  float64       \n",
            " 17  poster_path           180747 non-null  object        \n",
            " 18  tagline               180747 non-null  object        \n",
            " 19  genres                180747 non-null  object        \n",
            " 20  production_companies  180747 non-null  object        \n",
            " 21  production_countries  180747 non-null  object        \n",
            " 22  spoken_languages      180747 non-null  object        \n",
            " 23  keywords              180747 non-null  object        \n",
            "dtypes: bool(1), category(1), datetime64[ns](1), float64(2), int64(5), object(11), string(3)\n",
            "memory usage: 30.7+ MB\n"
          ]
        }
      ],
      "source": [
        "df.info()"
      ]
    },
    {
      "cell_type": "code",
      "execution_count": 22,
      "metadata": {
        "colab": {
          "base_uri": "https://localhost:8080/"
        },
        "id": "qbwDaouEq3oV",
        "outputId": "06ec167b-4324-4a2b-ab61-05d4e65b4b22"
      },
      "outputs": [
        {
          "data": {
            "text/plain": [
              "array(['en', 'ko', 'fr', 'ja', 'it', 'es', 'pl', 'pt', 'hi', 'tr', 'da',\n",
              "       'de', 'cn', 'id', 'zh', 'sv', 'el', 'ru', 'sr', 'fa', 'th', 'ar',\n",
              "       'no', 'nb', 'fi', 'te', 'la', 'nl', 'hu', 'he', 'is', 'ro', 'gl',\n",
              "       'uk', 'eu', 'et', 'bs', 'bn', 'xx', 'sh', 'km', 'cs', 'tn', 'ml',\n",
              "       'mk', 'ga', 'hy', 'ku', 'ka', 'ta', 'kn', 'tl', 'vi', 'ca', 'dz',\n",
              "       'sw', 'kk', 'wo', 'sk', 'lv', 'mi', 'bo', 'ps', 'mn', 'lt', 'ur',\n",
              "       'sl', 'sc', 'af', 'hr', 'iu', 'se', 'ms', 'bm', 'mr', 'bg', 'am',\n",
              "       'cy', 'lo', 'xh', 'yi', 'qu', 'yo', 'sq', 'pa', 'eo', 'gu', 'zu',\n",
              "       'st', 'ne', 'ak', 'mt', 'rw', 'as', 'ay', 'ln', 'mo', 'si', 'so',\n",
              "       'ff', 'ky', 'kl', 'ik', 'az', 'ab', 'jv', 'sn', 'li', 'fo', 'ks',\n",
              "       'tg', 'su', 'my', 'ht', 'lb', 'ha', 'rm', 'sm', 'sa', 'tk', 'fy',\n",
              "       'be', 'bi', 'om', 'ny', 'gd', 'or', 'uz', 'cr', 'mg', 'ia', 'co',\n",
              "       'gn', 'tw', 'nn', 'mh'], dtype=object)"
            ]
          },
          "execution_count": 22,
          "metadata": {},
          "output_type": "execute_result"
        }
      ],
      "source": [
        "df['original_language'].unique()"
      ]
    },
    {
      "cell_type": "code",
      "execution_count": 23,
      "metadata": {
        "colab": {
          "base_uri": "https://localhost:8080/",
          "height": 489
        },
        "id": "z0ur8gJmrLcP",
        "outputId": "cfce8274-7fda-4730-8401-f2e79e337842"
      },
      "outputs": [
        {
          "data": {
            "text/plain": [
              "original_language\n",
              "en    94478\n",
              "fr    13136\n",
              "es    11718\n",
              "ja     7359\n",
              "de     7302\n",
              "      ...  \n",
              "sn        1\n",
              "su        1\n",
              "tn        1\n",
              "tw        1\n",
              "yo        1\n",
              "Name: count, Length: 136, dtype: int64"
            ]
          },
          "execution_count": 23,
          "metadata": {},
          "output_type": "execute_result"
        }
      ],
      "source": [
        "# Coverting 'original_language' column to category type\n",
        "\n",
        "df['original_language'] = df['original_language'].astype('category')\n",
        "df['original_language'].value_counts()"
      ]
    },
    {
      "cell_type": "code",
      "execution_count": 24,
      "metadata": {
        "colab": {
          "base_uri": "https://localhost:8080/"
        },
        "id": "LeL1dO_zrt5p",
        "outputId": "94f1ffd3-bc10-4046-d019-4ee97de2f5c5"
      },
      "outputs": [
        {
          "name": "stdout",
          "output_type": "stream",
          "text": [
            "<class 'pandas.core.frame.DataFrame'>\n",
            "RangeIndex: 180747 entries, 0 to 180746\n",
            "Data columns (total 24 columns):\n",
            " #   Column                Non-Null Count   Dtype         \n",
            "---  ------                --------------   -----         \n",
            " 0   id                    180747 non-null  int64         \n",
            " 1   title                 180747 non-null  string        \n",
            " 2   vote_average          180747 non-null  float64       \n",
            " 3   vote_count            180747 non-null  int64         \n",
            " 4   status                180747 non-null  category      \n",
            " 5   release_date          180267 non-null  datetime64[ns]\n",
            " 6   revenue               180747 non-null  int64         \n",
            " 7   runtime               180747 non-null  int64         \n",
            " 8   adult                 180747 non-null  bool          \n",
            " 9   backdrop_path         180747 non-null  string        \n",
            " 10  budget                180747 non-null  int64         \n",
            " 11  homepage              180747 non-null  string        \n",
            " 12  imdb_id               180747 non-null  object        \n",
            " 13  original_language     180747 non-null  category      \n",
            " 14  original_title        180747 non-null  object        \n",
            " 15  overview              180747 non-null  object        \n",
            " 16  popularity            180747 non-null  float64       \n",
            " 17  poster_path           180747 non-null  object        \n",
            " 18  tagline               180747 non-null  object        \n",
            " 19  genres                180747 non-null  object        \n",
            " 20  production_companies  180747 non-null  object        \n",
            " 21  production_countries  180747 non-null  object        \n",
            " 22  spoken_languages      180747 non-null  object        \n",
            " 23  keywords              180747 non-null  object        \n",
            "dtypes: bool(1), category(2), datetime64[ns](1), float64(2), int64(5), object(10), string(3)\n",
            "memory usage: 29.7+ MB\n"
          ]
        }
      ],
      "source": [
        "df.info()"
      ]
    },
    {
      "cell_type": "code",
      "execution_count": 25,
      "metadata": {
        "colab": {
          "base_uri": "https://localhost:8080/",
          "height": 458
        },
        "id": "8_fSBhi5ryHw",
        "outputId": "82568de1-bb70-40ff-ed4d-ea7da4f7d5c8"
      },
      "outputs": [
        {
          "data": {
            "text/plain": [
              "0                                             Inception\n",
              "1                                          Interstellar\n",
              "2                                       The Dark Knight\n",
              "3                                                Avatar\n",
              "4                                          The Avengers\n",
              "                              ...                      \n",
              "180742                Kathy Griffin: Whores on Crutches\n",
              "180743    Six Degrees of Separation from Lilia Cuntapay\n",
              "180744                                    K1 Dynamite!!\n",
              "180745                                             사형사제\n",
              "180746                      Чому у півня короткі штанці\n",
              "Name: original_title, Length: 180747, dtype: object"
            ]
          },
          "execution_count": 25,
          "metadata": {},
          "output_type": "execute_result"
        }
      ],
      "source": [
        "df['original_title']"
      ]
    },
    {
      "cell_type": "code",
      "execution_count": 26,
      "metadata": {
        "id": "mdNX55dIr2MN"
      },
      "outputs": [],
      "source": [
        "# Coverting 'original_title' column to string type\n",
        "\n",
        "df['original_title'] = df['original_title'].astype('string')"
      ]
    },
    {
      "cell_type": "code",
      "execution_count": 27,
      "metadata": {
        "colab": {
          "base_uri": "https://localhost:8080/"
        },
        "id": "-ZBbn9XCsKYa",
        "outputId": "cf448f79-63b6-4ab9-f56f-9bd778525758"
      },
      "outputs": [
        {
          "name": "stdout",
          "output_type": "stream",
          "text": [
            "<class 'pandas.core.frame.DataFrame'>\n",
            "RangeIndex: 180747 entries, 0 to 180746\n",
            "Data columns (total 24 columns):\n",
            " #   Column                Non-Null Count   Dtype         \n",
            "---  ------                --------------   -----         \n",
            " 0   id                    180747 non-null  int64         \n",
            " 1   title                 180747 non-null  string        \n",
            " 2   vote_average          180747 non-null  float64       \n",
            " 3   vote_count            180747 non-null  int64         \n",
            " 4   status                180747 non-null  category      \n",
            " 5   release_date          180267 non-null  datetime64[ns]\n",
            " 6   revenue               180747 non-null  int64         \n",
            " 7   runtime               180747 non-null  int64         \n",
            " 8   adult                 180747 non-null  bool          \n",
            " 9   backdrop_path         180747 non-null  string        \n",
            " 10  budget                180747 non-null  int64         \n",
            " 11  homepage              180747 non-null  string        \n",
            " 12  imdb_id               180747 non-null  object        \n",
            " 13  original_language     180747 non-null  category      \n",
            " 14  original_title        180747 non-null  string        \n",
            " 15  overview              180747 non-null  object        \n",
            " 16  popularity            180747 non-null  float64       \n",
            " 17  poster_path           180747 non-null  object        \n",
            " 18  tagline               180747 non-null  object        \n",
            " 19  genres                180747 non-null  object        \n",
            " 20  production_companies  180747 non-null  object        \n",
            " 21  production_countries  180747 non-null  object        \n",
            " 22  spoken_languages      180747 non-null  object        \n",
            " 23  keywords              180747 non-null  object        \n",
            "dtypes: bool(1), category(2), datetime64[ns](1), float64(2), int64(5), object(9), string(4)\n",
            "memory usage: 29.7+ MB\n"
          ]
        }
      ],
      "source": [
        "df.info()"
      ]
    },
    {
      "cell_type": "code",
      "execution_count": 28,
      "metadata": {
        "colab": {
          "base_uri": "https://localhost:8080/",
          "height": 458
        },
        "id": "olPVRdOhsPGi",
        "outputId": "bf89576c-e5bc-404b-c2a6-cde638f6ed9b"
      },
      "outputs": [
        {
          "data": {
            "text/plain": [
              "0         Cobb, a skilled thief who commits corporate es...\n",
              "1         The adventures of a group of explorers who mak...\n",
              "2         Batman raises the stakes in his war on crime. ...\n",
              "3         In the 22nd century, a paraplegic Marine is di...\n",
              "4         When an unexpected enemy emerges and threatens...\n",
              "                                ...                        \n",
              "180742    The comic performs at the Pechenga Resort & Ca...\n",
              "180743    A professional horror movie extra prepares for...\n",
              "180744    Dynamite!! 2009 was a mixed martial arts and k...\n",
              "180745    Li-Siu, a young Shaolin Monk finds the opportu...\n",
              "180746    The rooster goes to the holiday fair. He decid...\n",
              "Name: overview, Length: 180747, dtype: object"
            ]
          },
          "execution_count": 28,
          "metadata": {},
          "output_type": "execute_result"
        }
      ],
      "source": [
        "df['overview']"
      ]
    },
    {
      "cell_type": "code",
      "execution_count": 29,
      "metadata": {
        "id": "QgWkK2YfsSYM"
      },
      "outputs": [],
      "source": [
        "# Converting 'overview' column to string type\n",
        "\n",
        "df['overview'] = df['overview'].astype('string')"
      ]
    },
    {
      "cell_type": "code",
      "execution_count": 30,
      "metadata": {
        "colab": {
          "base_uri": "https://localhost:8080/"
        },
        "id": "GkQe3db8sleI",
        "outputId": "70c77065-4e40-4ba2-a4cb-429c7589322e"
      },
      "outputs": [
        {
          "name": "stdout",
          "output_type": "stream",
          "text": [
            "<class 'pandas.core.frame.DataFrame'>\n",
            "RangeIndex: 180747 entries, 0 to 180746\n",
            "Data columns (total 24 columns):\n",
            " #   Column                Non-Null Count   Dtype         \n",
            "---  ------                --------------   -----         \n",
            " 0   id                    180747 non-null  int64         \n",
            " 1   title                 180747 non-null  string        \n",
            " 2   vote_average          180747 non-null  float64       \n",
            " 3   vote_count            180747 non-null  int64         \n",
            " 4   status                180747 non-null  category      \n",
            " 5   release_date          180267 non-null  datetime64[ns]\n",
            " 6   revenue               180747 non-null  int64         \n",
            " 7   runtime               180747 non-null  int64         \n",
            " 8   adult                 180747 non-null  bool          \n",
            " 9   backdrop_path         180747 non-null  string        \n",
            " 10  budget                180747 non-null  int64         \n",
            " 11  homepage              180747 non-null  string        \n",
            " 12  imdb_id               180747 non-null  object        \n",
            " 13  original_language     180747 non-null  category      \n",
            " 14  original_title        180747 non-null  string        \n",
            " 15  overview              180747 non-null  string        \n",
            " 16  popularity            180747 non-null  float64       \n",
            " 17  poster_path           180747 non-null  object        \n",
            " 18  tagline               180747 non-null  object        \n",
            " 19  genres                180747 non-null  object        \n",
            " 20  production_companies  180747 non-null  object        \n",
            " 21  production_countries  180747 non-null  object        \n",
            " 22  spoken_languages      180747 non-null  object        \n",
            " 23  keywords              180747 non-null  object        \n",
            "dtypes: bool(1), category(2), datetime64[ns](1), float64(2), int64(5), object(8), string(5)\n",
            "memory usage: 29.7+ MB\n"
          ]
        }
      ],
      "source": [
        "df.info()"
      ]
    },
    {
      "cell_type": "markdown",
      "metadata": {
        "id": "ObuLl12r6G-2"
      },
      "source": [
        "From [IMDB](https://help.imdb.com/article/imdb/track-movies-tv/ratings-faq/G67Y87TFYYP6TWAV?ref_=helpart_nav_2#):\n",
        "\n",
        "The following formula is used to calculate the Top Rated 250 titles. This formula provides a true \"Bayesian estimate\", which takes into account the number of ratings each title has received, minimum ratings required to be on the list, and the mean rating for all titles:\n",
        "\n",
        "weighted rating (WR) = (v ÷ (v+m)) x R + (m ÷ (v+m)) x C\n",
        "\n",
        "Where:\n",
        "\n",
        "R = average for the title (mean) = (rating)\n",
        "\n",
        "v = number of ratings for the title = (ratings)\n",
        "\n",
        "m = minimum ratings required to be listed in the Top Rated 250 chart (currently 25,000)\n",
        "\n",
        "C= the mean rating across the whole report\n",
        "\n",
        "Please be aware the Top 250 Movie chart list only includes feature films. Shorts, TV movies, mini-series, and documentaries are not included in the Top 250 Movies chart. The Top 250 TV Shows chart includes TV Series, but not TV episodes or movies."
      ]
    },
    {
      "cell_type": "code",
      "execution_count": 31,
      "metadata": {
        "colab": {
          "base_uri": "https://localhost:8080/",
          "height": 458
        },
        "id": "8BiyYO8JspZL",
        "outputId": "639dde45-4499-4607-fe3b-16261090365f"
      },
      "outputs": [
        {
          "data": {
            "text/plain": [
              "0          83.952\n",
              "1         140.241\n",
              "2         130.643\n",
              "3          79.932\n",
              "4          98.082\n",
              "           ...   \n",
              "180742      1.251\n",
              "180743      0.600\n",
              "180744      0.600\n",
              "180745      1.935\n",
              "180746      0.901\n",
              "Name: popularity, Length: 180747, dtype: float64"
            ]
          },
          "execution_count": 31,
          "metadata": {},
          "output_type": "execute_result"
        }
      ],
      "source": [
        "df['popularity']"
      ]
    },
    {
      "cell_type": "code",
      "execution_count": 32,
      "metadata": {
        "colab": {
          "base_uri": "https://localhost:8080/"
        },
        "id": "wGKB_doitf2y",
        "outputId": "dbd2d19c-58b9-40ec-c136-69a5c32c5192"
      },
      "outputs": [
        {
          "name": "stdout",
          "output_type": "stream",
          "text": [
            "<class 'pandas.core.frame.DataFrame'>\n",
            "RangeIndex: 180747 entries, 0 to 180746\n",
            "Data columns (total 24 columns):\n",
            " #   Column                Non-Null Count   Dtype         \n",
            "---  ------                --------------   -----         \n",
            " 0   id                    180747 non-null  int64         \n",
            " 1   title                 180747 non-null  string        \n",
            " 2   vote_average          180747 non-null  float64       \n",
            " 3   vote_count            180747 non-null  int64         \n",
            " 4   status                180747 non-null  category      \n",
            " 5   release_date          180267 non-null  datetime64[ns]\n",
            " 6   revenue               180747 non-null  int64         \n",
            " 7   runtime               180747 non-null  int64         \n",
            " 8   adult                 180747 non-null  bool          \n",
            " 9   backdrop_path         180747 non-null  string        \n",
            " 10  budget                180747 non-null  int64         \n",
            " 11  homepage              180747 non-null  string        \n",
            " 12  imdb_id               180747 non-null  object        \n",
            " 13  original_language     180747 non-null  category      \n",
            " 14  original_title        180747 non-null  string        \n",
            " 15  overview              180747 non-null  string        \n",
            " 16  popularity            180747 non-null  float64       \n",
            " 17  poster_path           180747 non-null  object        \n",
            " 18  tagline               180747 non-null  object        \n",
            " 19  genres                180747 non-null  object        \n",
            " 20  production_companies  180747 non-null  object        \n",
            " 21  production_countries  180747 non-null  object        \n",
            " 22  spoken_languages      180747 non-null  object        \n",
            " 23  keywords              180747 non-null  object        \n",
            "dtypes: bool(1), category(2), datetime64[ns](1), float64(2), int64(5), object(8), string(5)\n",
            "memory usage: 29.7+ MB\n"
          ]
        }
      ],
      "source": [
        "df.info()"
      ]
    },
    {
      "cell_type": "code",
      "execution_count": 33,
      "metadata": {
        "colab": {
          "base_uri": "https://localhost:8080/",
          "height": 458
        },
        "id": "CoijrTiWtiPw",
        "outputId": "b33d71c9-9a51-4188-d00a-6445be5b48b2"
      },
      "outputs": [
        {
          "data": {
            "text/plain": [
              "0         /oYuLEt3zVCKq57qu2F8dT7NIa6f.jpg\n",
              "1         /gEU2QniE6E77NI6lCU6MxlNBvIx.jpg\n",
              "2         /qJ2tW6WMUDux911r6m7haRef0WH.jpg\n",
              "3         /kyeqWdyUXW608qlYkRqosgbbJyK.jpg\n",
              "4          /RYMX2wcKCBAr24UyPD7xwmjaTn.jpg\n",
              "                        ...               \n",
              "180742    /7rdWh28h2MYWYMDSOiq1BDOiFpF.jpg\n",
              "180743    /3Y2cegVtJupcwk09Aq6b7L8EwAj.jpg\n",
              "180744                             Unknown\n",
              "180745    /cIxbKkpa5INho8LJVvngA11hGi9.jpg\n",
              "180746    /pLM9QUv2iv8gm8EgKEcVkofKNAh.jpg\n",
              "Name: poster_path, Length: 180747, dtype: object"
            ]
          },
          "execution_count": 33,
          "metadata": {},
          "output_type": "execute_result"
        }
      ],
      "source": [
        "df['poster_path']"
      ]
    },
    {
      "cell_type": "code",
      "execution_count": 34,
      "metadata": {
        "id": "Rel0H6MQusaI"
      },
      "outputs": [],
      "source": [
        "# Coverting 'poster_path' column to string type\n",
        "\n",
        "df['poster_path'] = df['poster_path'].astype('string')"
      ]
    },
    {
      "cell_type": "code",
      "execution_count": 35,
      "metadata": {
        "colab": {
          "base_uri": "https://localhost:8080/"
        },
        "id": "lk4p4pv8vUVE",
        "outputId": "25567b8c-8788-4eea-8f33-65cf1414fe6a"
      },
      "outputs": [
        {
          "name": "stdout",
          "output_type": "stream",
          "text": [
            "<class 'pandas.core.frame.DataFrame'>\n",
            "RangeIndex: 180747 entries, 0 to 180746\n",
            "Data columns (total 24 columns):\n",
            " #   Column                Non-Null Count   Dtype         \n",
            "---  ------                --------------   -----         \n",
            " 0   id                    180747 non-null  int64         \n",
            " 1   title                 180747 non-null  string        \n",
            " 2   vote_average          180747 non-null  float64       \n",
            " 3   vote_count            180747 non-null  int64         \n",
            " 4   status                180747 non-null  category      \n",
            " 5   release_date          180267 non-null  datetime64[ns]\n",
            " 6   revenue               180747 non-null  int64         \n",
            " 7   runtime               180747 non-null  int64         \n",
            " 8   adult                 180747 non-null  bool          \n",
            " 9   backdrop_path         180747 non-null  string        \n",
            " 10  budget                180747 non-null  int64         \n",
            " 11  homepage              180747 non-null  string        \n",
            " 12  imdb_id               180747 non-null  object        \n",
            " 13  original_language     180747 non-null  category      \n",
            " 14  original_title        180747 non-null  string        \n",
            " 15  overview              180747 non-null  string        \n",
            " 16  popularity            180747 non-null  float64       \n",
            " 17  poster_path           180747 non-null  string        \n",
            " 18  tagline               180747 non-null  object        \n",
            " 19  genres                180747 non-null  object        \n",
            " 20  production_companies  180747 non-null  object        \n",
            " 21  production_countries  180747 non-null  object        \n",
            " 22  spoken_languages      180747 non-null  object        \n",
            " 23  keywords              180747 non-null  object        \n",
            "dtypes: bool(1), category(2), datetime64[ns](1), float64(2), int64(5), object(7), string(6)\n",
            "memory usage: 29.7+ MB\n"
          ]
        }
      ],
      "source": [
        "df.info()"
      ]
    },
    {
      "cell_type": "code",
      "execution_count": 36,
      "metadata": {
        "colab": {
          "base_uri": "https://localhost:8080/",
          "height": 458
        },
        "id": "ISZjiIwfvaDj",
        "outputId": "175df96e-25ad-4c87-89e7-12f194f69c71"
      },
      "outputs": [
        {
          "data": {
            "text/plain": [
              "0                      Your mind is the scene of the crime.\n",
              "1         Mankind was born on Earth. It was never meant ...\n",
              "2                         Welcome to a world without rules.\n",
              "3                               Enter the world of Pandora.\n",
              "4                                   Some assembly required.\n",
              "                                ...                        \n",
              "180742                                              Unknown\n",
              "180743                        Hindi po ito horror, promise.\n",
              "180744                                              Unknown\n",
              "180745                                              Unknown\n",
              "180746                                              Unknown\n",
              "Name: tagline, Length: 180747, dtype: object"
            ]
          },
          "execution_count": 36,
          "metadata": {},
          "output_type": "execute_result"
        }
      ],
      "source": [
        "df['tagline']"
      ]
    },
    {
      "cell_type": "code",
      "execution_count": 37,
      "metadata": {
        "id": "aPu3uFLuvfcD"
      },
      "outputs": [],
      "source": [
        "# Coverting 'tagline' column to string type\n",
        "\n",
        "df['tagline'] = df['tagline'].astype('string')"
      ]
    },
    {
      "cell_type": "code",
      "execution_count": 38,
      "metadata": {
        "colab": {
          "base_uri": "https://localhost:8080/"
        },
        "id": "U6zbGM4CvoOY",
        "outputId": "b7e647ac-7664-448f-8203-7527b0b053ad"
      },
      "outputs": [
        {
          "name": "stdout",
          "output_type": "stream",
          "text": [
            "<class 'pandas.core.frame.DataFrame'>\n",
            "RangeIndex: 180747 entries, 0 to 180746\n",
            "Data columns (total 24 columns):\n",
            " #   Column                Non-Null Count   Dtype         \n",
            "---  ------                --------------   -----         \n",
            " 0   id                    180747 non-null  int64         \n",
            " 1   title                 180747 non-null  string        \n",
            " 2   vote_average          180747 non-null  float64       \n",
            " 3   vote_count            180747 non-null  int64         \n",
            " 4   status                180747 non-null  category      \n",
            " 5   release_date          180267 non-null  datetime64[ns]\n",
            " 6   revenue               180747 non-null  int64         \n",
            " 7   runtime               180747 non-null  int64         \n",
            " 8   adult                 180747 non-null  bool          \n",
            " 9   backdrop_path         180747 non-null  string        \n",
            " 10  budget                180747 non-null  int64         \n",
            " 11  homepage              180747 non-null  string        \n",
            " 12  imdb_id               180747 non-null  object        \n",
            " 13  original_language     180747 non-null  category      \n",
            " 14  original_title        180747 non-null  string        \n",
            " 15  overview              180747 non-null  string        \n",
            " 16  popularity            180747 non-null  float64       \n",
            " 17  poster_path           180747 non-null  string        \n",
            " 18  tagline               180747 non-null  string        \n",
            " 19  genres                180747 non-null  object        \n",
            " 20  production_companies  180747 non-null  object        \n",
            " 21  production_countries  180747 non-null  object        \n",
            " 22  spoken_languages      180747 non-null  object        \n",
            " 23  keywords              180747 non-null  object        \n",
            "dtypes: bool(1), category(2), datetime64[ns](1), float64(2), int64(5), object(6), string(7)\n",
            "memory usage: 29.7+ MB\n"
          ]
        }
      ],
      "source": [
        "df.info()"
      ]
    },
    {
      "cell_type": "code",
      "execution_count": 39,
      "metadata": {
        "colab": {
          "base_uri": "https://localhost:8080/",
          "height": 458
        },
        "id": "sLJEHzFxw57U",
        "outputId": "29484a6c-d7f1-4f89-a7c0-8f3b084607b9"
      },
      "outputs": [
        {
          "data": {
            "text/plain": [
              "0                  Action, Science Fiction, Adventure\n",
              "1                   Adventure, Drama, Science Fiction\n",
              "2                      Drama, Action, Crime, Thriller\n",
              "3         Action, Adventure, Fantasy, Science Fiction\n",
              "4                  Science Fiction, Action, Adventure\n",
              "                             ...                     \n",
              "180742                                         Comedy\n",
              "180743                     Drama, Comedy, Documentary\n",
              "180744                                 Action, Comedy\n",
              "180745                                  Action, Drama\n",
              "180746                                      Animation\n",
              "Name: genres, Length: 180747, dtype: object"
            ]
          },
          "execution_count": 39,
          "metadata": {},
          "output_type": "execute_result"
        }
      ],
      "source": [
        "df['genres']"
      ]
    },
    {
      "cell_type": "code",
      "execution_count": 40,
      "metadata": {
        "colab": {
          "base_uri": "https://localhost:8080/",
          "height": 489
        },
        "id": "Rq_vHOPRzJXj",
        "outputId": "a90279d3-b118-40c9-aada-066708a90115"
      },
      "outputs": [
        {
          "data": {
            "text/plain": [
              "genres\n",
              "Drama                                                             22171\n",
              "Comedy                                                            15874\n",
              "Documentary                                                       15744\n",
              "Unknown                                                           12015\n",
              "Horror                                                             4588\n",
              "                                                                  ...  \n",
              "Comedy, Mystery, Romance, Fantasy                                     1\n",
              "Action, Adventure, Animation, Family, Comedy, TV Movie                1\n",
              "Action, Adventure, Animation, Family, Fantasy, Science Fiction        1\n",
              "Action, Adventure, Animation, Family, Science Fiction                 1\n",
              "Romance, Science Fiction, Adventure, Comedy                           1\n",
              "Name: count, Length: 8354, dtype: int64"
            ]
          },
          "execution_count": 40,
          "metadata": {},
          "output_type": "execute_result"
        }
      ],
      "source": [
        "# Converting 'genres' column to category type\n",
        "\n",
        "df['genres'] = df['genres'].astype('category')\n",
        "df['genres'].value_counts()"
      ]
    },
    {
      "cell_type": "code",
      "execution_count": 41,
      "metadata": {
        "colab": {
          "base_uri": "https://localhost:8080/"
        },
        "id": "eHunqtPY2uI-",
        "outputId": "315fb986-5d88-41c6-d00a-903cbf674a02"
      },
      "outputs": [
        {
          "name": "stdout",
          "output_type": "stream",
          "text": [
            "<class 'pandas.core.frame.DataFrame'>\n",
            "RangeIndex: 180747 entries, 0 to 180746\n",
            "Data columns (total 24 columns):\n",
            " #   Column                Non-Null Count   Dtype         \n",
            "---  ------                --------------   -----         \n",
            " 0   id                    180747 non-null  int64         \n",
            " 1   title                 180747 non-null  string        \n",
            " 2   vote_average          180747 non-null  float64       \n",
            " 3   vote_count            180747 non-null  int64         \n",
            " 4   status                180747 non-null  category      \n",
            " 5   release_date          180267 non-null  datetime64[ns]\n",
            " 6   revenue               180747 non-null  int64         \n",
            " 7   runtime               180747 non-null  int64         \n",
            " 8   adult                 180747 non-null  bool          \n",
            " 9   backdrop_path         180747 non-null  string        \n",
            " 10  budget                180747 non-null  int64         \n",
            " 11  homepage              180747 non-null  string        \n",
            " 12  imdb_id               180747 non-null  object        \n",
            " 13  original_language     180747 non-null  category      \n",
            " 14  original_title        180747 non-null  string        \n",
            " 15  overview              180747 non-null  string        \n",
            " 16  popularity            180747 non-null  float64       \n",
            " 17  poster_path           180747 non-null  string        \n",
            " 18  tagline               180747 non-null  string        \n",
            " 19  genres                180747 non-null  category      \n",
            " 20  production_companies  180747 non-null  object        \n",
            " 21  production_countries  180747 non-null  object        \n",
            " 22  spoken_languages      180747 non-null  object        \n",
            " 23  keywords              180747 non-null  object        \n",
            "dtypes: bool(1), category(3), datetime64[ns](1), float64(2), int64(5), object(5), string(7)\n",
            "memory usage: 28.9+ MB\n"
          ]
        }
      ],
      "source": [
        "df.info()"
      ]
    },
    {
      "cell_type": "code",
      "execution_count": 42,
      "metadata": {
        "colab": {
          "base_uri": "https://localhost:8080/",
          "height": 458
        },
        "id": "_q8aBFkK2ydk",
        "outputId": "865294d3-5fac-4de9-e20f-f0d8ad8ee678"
      },
      "outputs": [
        {
          "data": {
            "text/plain": [
              "0         Legendary Pictures, Syncopy, Warner Bros. Pict...\n",
              "1         Legendary Pictures, Syncopy, Lynda Obst Produc...\n",
              "2         DC Comics, Legendary Pictures, Syncopy, Isobel...\n",
              "3         Dune Entertainment, Lightstorm Entertainment, ...\n",
              "4                                            Marvel Studios\n",
              "                                ...                        \n",
              "180742                                              Unknown\n",
              "180743                    Cinema One Originals, Post Manila\n",
              "180744                                              Unknown\n",
              "180745                                              Unknown\n",
              "180746                                         Kyivnaukfilm\n",
              "Name: production_companies, Length: 180747, dtype: object"
            ]
          },
          "execution_count": 42,
          "metadata": {},
          "output_type": "execute_result"
        }
      ],
      "source": [
        "df['production_companies']"
      ]
    },
    {
      "cell_type": "code",
      "execution_count": 43,
      "metadata": {
        "id": "puU5uWw44jZO"
      },
      "outputs": [],
      "source": [
        "# Converting 'production_companies' column to category type\n",
        "\n",
        "df['production_companies'] = df['production_companies'].astype('category')"
      ]
    },
    {
      "cell_type": "code",
      "execution_count": 44,
      "metadata": {
        "colab": {
          "base_uri": "https://localhost:8080/",
          "height": 489
        },
        "id": "BwIVDRav55BV",
        "outputId": "b0da12ec-9df2-4dac-8794-2721d4e31bbc"
      },
      "outputs": [
        {
          "data": {
            "text/plain": [
              "production_companies\n",
              "Unknown                       44564\n",
              "Metro-Goldwyn-Mayer            1165\n",
              "Warner Bros. Pictures           830\n",
              "Paramount                       750\n",
              "Columbia Pictures               712\n",
              "                              ...  \n",
              "Arun Narayan Productions          1\n",
              "相信音乐                              1\n",
              "福建平潭突燃影业有限公司                      1\n",
              "福建恒业影业有限公司                        1\n",
              "福建恒业电影发行有限公司, 北京春秋时代文化有限公司        1\n",
              "Name: count, Length: 82432, dtype: int64"
            ]
          },
          "execution_count": 44,
          "metadata": {},
          "output_type": "execute_result"
        }
      ],
      "source": [
        "df['production_companies'].value_counts()"
      ]
    },
    {
      "cell_type": "code",
      "execution_count": 45,
      "metadata": {
        "colab": {
          "base_uri": "https://localhost:8080/"
        },
        "id": "D_EvsBIn8vAJ",
        "outputId": "ac640dd7-6ec1-4719-8567-8b73b986a75f"
      },
      "outputs": [
        {
          "name": "stdout",
          "output_type": "stream",
          "text": [
            "<class 'pandas.core.frame.DataFrame'>\n",
            "RangeIndex: 180747 entries, 0 to 180746\n",
            "Data columns (total 24 columns):\n",
            " #   Column                Non-Null Count   Dtype         \n",
            "---  ------                --------------   -----         \n",
            " 0   id                    180747 non-null  int64         \n",
            " 1   title                 180747 non-null  string        \n",
            " 2   vote_average          180747 non-null  float64       \n",
            " 3   vote_count            180747 non-null  int64         \n",
            " 4   status                180747 non-null  category      \n",
            " 5   release_date          180267 non-null  datetime64[ns]\n",
            " 6   revenue               180747 non-null  int64         \n",
            " 7   runtime               180747 non-null  int64         \n",
            " 8   adult                 180747 non-null  bool          \n",
            " 9   backdrop_path         180747 non-null  string        \n",
            " 10  budget                180747 non-null  int64         \n",
            " 11  homepage              180747 non-null  string        \n",
            " 12  imdb_id               180747 non-null  object        \n",
            " 13  original_language     180747 non-null  category      \n",
            " 14  original_title        180747 non-null  string        \n",
            " 15  overview              180747 non-null  string        \n",
            " 16  popularity            180747 non-null  float64       \n",
            " 17  poster_path           180747 non-null  string        \n",
            " 18  tagline               180747 non-null  string        \n",
            " 19  genres                180747 non-null  category      \n",
            " 20  production_companies  180747 non-null  category      \n",
            " 21  production_countries  180747 non-null  object        \n",
            " 22  spoken_languages      180747 non-null  object        \n",
            " 23  keywords              180747 non-null  object        \n",
            "dtypes: bool(1), category(4), datetime64[ns](1), float64(2), int64(5), object(4), string(7)\n",
            "memory usage: 30.9+ MB\n"
          ]
        }
      ],
      "source": [
        "df.info()"
      ]
    },
    {
      "cell_type": "code",
      "execution_count": 46,
      "metadata": {
        "colab": {
          "base_uri": "https://localhost:8080/",
          "height": 458
        },
        "id": "tWKAFbLs8zHl",
        "outputId": "10a73b84-1c23-42de-8670-64f3e30db247"
      },
      "outputs": [
        {
          "data": {
            "text/plain": [
              "0         United Kingdom, United States of America\n",
              "1         United Kingdom, United States of America\n",
              "2         United Kingdom, United States of America\n",
              "3         United States of America, United Kingdom\n",
              "4                         United States of America\n",
              "                            ...                   \n",
              "180742                    United States of America\n",
              "180743                                 Philippines\n",
              "180744                                     Unknown\n",
              "180745                                 South Korea\n",
              "180746                                Soviet Union\n",
              "Name: production_countries, Length: 180747, dtype: object"
            ]
          },
          "execution_count": 46,
          "metadata": {},
          "output_type": "execute_result"
        }
      ],
      "source": [
        "df['production_countries']"
      ]
    },
    {
      "cell_type": "code",
      "execution_count": 47,
      "metadata": {
        "colab": {
          "base_uri": "https://localhost:8080/",
          "height": 489
        },
        "id": "6FlA5nPV84Gd",
        "outputId": "c056ccf8-e96c-4a5d-bdba-0454b5f2dc31"
      },
      "outputs": [
        {
          "data": {
            "text/plain": [
              "production_countries\n",
              "United States of America                                        51172\n",
              "Unknown                                                         22530\n",
              "France                                                           8887\n",
              "United Kingdom                                                   8379\n",
              "Japan                                                            7120\n",
              "                                                                ...  \n",
              "Canada, Dominican Republic, France, United States of America        1\n",
              "Egypt, Syrian Arab Republic                                         1\n",
              "Rwanda                                                              1\n",
              "Lebanon, Qatar, United States of America                            1\n",
              "North Korea, France                                                 1\n",
              "Name: count, Length: 5863, dtype: Int64"
            ]
          },
          "execution_count": 47,
          "metadata": {},
          "output_type": "execute_result"
        }
      ],
      "source": [
        "# Converting 'production_countries' column to string type\n",
        "\n",
        "df['production_countries'] = df['production_countries'].astype('string')\n",
        "df['production_countries'].value_counts()"
      ]
    },
    {
      "cell_type": "code",
      "execution_count": 48,
      "metadata": {
        "colab": {
          "base_uri": "https://localhost:8080/"
        },
        "id": "Or_-g3ZYAKwS",
        "outputId": "6a2fdbf2-369f-452b-b901-77d45cf0f5c7"
      },
      "outputs": [
        {
          "name": "stdout",
          "output_type": "stream",
          "text": [
            "<class 'pandas.core.frame.DataFrame'>\n",
            "RangeIndex: 180747 entries, 0 to 180746\n",
            "Data columns (total 24 columns):\n",
            " #   Column                Non-Null Count   Dtype         \n",
            "---  ------                --------------   -----         \n",
            " 0   id                    180747 non-null  int64         \n",
            " 1   title                 180747 non-null  string        \n",
            " 2   vote_average          180747 non-null  float64       \n",
            " 3   vote_count            180747 non-null  int64         \n",
            " 4   status                180747 non-null  category      \n",
            " 5   release_date          180267 non-null  datetime64[ns]\n",
            " 6   revenue               180747 non-null  int64         \n",
            " 7   runtime               180747 non-null  int64         \n",
            " 8   adult                 180747 non-null  bool          \n",
            " 9   backdrop_path         180747 non-null  string        \n",
            " 10  budget                180747 non-null  int64         \n",
            " 11  homepage              180747 non-null  string        \n",
            " 12  imdb_id               180747 non-null  object        \n",
            " 13  original_language     180747 non-null  category      \n",
            " 14  original_title        180747 non-null  string        \n",
            " 15  overview              180747 non-null  string        \n",
            " 16  popularity            180747 non-null  float64       \n",
            " 17  poster_path           180747 non-null  string        \n",
            " 18  tagline               180747 non-null  string        \n",
            " 19  genres                180747 non-null  category      \n",
            " 20  production_companies  180747 non-null  category      \n",
            " 21  production_countries  180747 non-null  string        \n",
            " 22  spoken_languages      180747 non-null  object        \n",
            " 23  keywords              180747 non-null  object        \n",
            "dtypes: bool(1), category(4), datetime64[ns](1), float64(2), int64(5), object(3), string(8)\n",
            "memory usage: 30.9+ MB\n"
          ]
        }
      ],
      "source": [
        "df.info()"
      ]
    },
    {
      "cell_type": "code",
      "execution_count": 49,
      "metadata": {
        "colab": {
          "base_uri": "https://localhost:8080/",
          "height": 458
        },
        "id": "-Uxf3oQzAPla",
        "outputId": "ec31298d-d4d2-47ba-8021-b2af1b826f27"
      },
      "outputs": [
        {
          "data": {
            "text/plain": [
              "0         English, French, Japanese, Swahili\n",
              "1                                    English\n",
              "2                          English, Mandarin\n",
              "3                           English, Spanish\n",
              "4                    English, Hindi, Russian\n",
              "                         ...                \n",
              "180742                               Unknown\n",
              "180743                               Tagalog\n",
              "180744                              Japanese\n",
              "180745                                Korean\n",
              "180746                             Ukrainian\n",
              "Name: spoken_languages, Length: 180747, dtype: object"
            ]
          },
          "execution_count": 49,
          "metadata": {},
          "output_type": "execute_result"
        }
      ],
      "source": [
        "df['spoken_languages']"
      ]
    },
    {
      "cell_type": "code",
      "execution_count": 50,
      "metadata": {
        "colab": {
          "base_uri": "https://localhost:8080/",
          "height": 489
        },
        "id": "a1VMMILFAUCu",
        "outputId": "6812d7ed-6f5d-4e48-a4b2-91d671be2404"
      },
      "outputs": [
        {
          "data": {
            "text/plain": [
              "spoken_languages\n",
              "English                        67923\n",
              "Unknown                        15853\n",
              "Spanish                         9683\n",
              "French                          9363\n",
              "Japanese                        6794\n",
              "                               ...  \n",
              "Yoruba                             1\n",
              "Yoruba, English                    1\n",
              "Yoruba, Portuguese                 1\n",
              "Yoruba, Romanian                   1\n",
              "Turkish, Hungarian, English        1\n",
              "Name: count, Length: 4480, dtype: int64"
            ]
          },
          "execution_count": 50,
          "metadata": {},
          "output_type": "execute_result"
        }
      ],
      "source": [
        "# Converting 'spoken_languages' column to category type\n",
        "\n",
        "df['spoken_languages'] = df['spoken_languages'].astype('category')\n",
        "df['spoken_languages'].value_counts()"
      ]
    },
    {
      "cell_type": "code",
      "execution_count": 51,
      "metadata": {},
      "outputs": [
        {
          "data": {
            "text/plain": [
              "0         rescue, mission, dream, airplane, paris, franc...\n",
              "1         rescue, future, spacecraft, race against time,...\n",
              "2         joker, sadism, chaos, secret identity, crime f...\n",
              "3         future, society, culture clash, space travel, ...\n",
              "4         new york city, superhero, shield, based on com...\n",
              "                                ...                        \n",
              "180742                                      stand-up comedy\n",
              "180743                                              Unknown\n",
              "180744                                              Unknown\n",
              "180745                                         martial arts\n",
              "180746                                           short film\n",
              "Name: keywords, Length: 180747, dtype: object"
            ]
          },
          "execution_count": 51,
          "metadata": {},
          "output_type": "execute_result"
        }
      ],
      "source": [
        "df['keywords']"
      ]
    },
    {
      "cell_type": "code",
      "execution_count": 52,
      "metadata": {},
      "outputs": [
        {
          "name": "stdout",
          "output_type": "stream",
          "text": [
            "<class 'pandas.core.frame.DataFrame'>\n",
            "RangeIndex: 180747 entries, 0 to 180746\n",
            "Data columns (total 24 columns):\n",
            " #   Column                Non-Null Count   Dtype         \n",
            "---  ------                --------------   -----         \n",
            " 0   id                    180747 non-null  int64         \n",
            " 1   title                 180747 non-null  string        \n",
            " 2   vote_average          180747 non-null  float64       \n",
            " 3   vote_count            180747 non-null  int64         \n",
            " 4   status                180747 non-null  category      \n",
            " 5   release_date          180267 non-null  datetime64[ns]\n",
            " 6   revenue               180747 non-null  int64         \n",
            " 7   runtime               180747 non-null  int64         \n",
            " 8   adult                 180747 non-null  bool          \n",
            " 9   backdrop_path         180747 non-null  string        \n",
            " 10  budget                180747 non-null  int64         \n",
            " 11  homepage              180747 non-null  string        \n",
            " 12  imdb_id               180747 non-null  object        \n",
            " 13  original_language     180747 non-null  category      \n",
            " 14  original_title        180747 non-null  string        \n",
            " 15  overview              180747 non-null  string        \n",
            " 16  popularity            180747 non-null  float64       \n",
            " 17  poster_path           180747 non-null  string        \n",
            " 18  tagline               180747 non-null  string        \n",
            " 19  genres                180747 non-null  category      \n",
            " 20  production_companies  180747 non-null  category      \n",
            " 21  production_countries  180747 non-null  string        \n",
            " 22  spoken_languages      180747 non-null  category      \n",
            " 23  keywords              180747 non-null  string        \n",
            "dtypes: bool(1), category(5), datetime64[ns](1), float64(2), int64(5), object(1), string(9)\n",
            "memory usage: 30.0+ MB\n"
          ]
        }
      ],
      "source": [
        "# Converting 'keywords' column to string type\n",
        "\n",
        "df['keywords'] = df['keywords'].astype('string')\n",
        "df.info()"
      ]
    },
    {
      "cell_type": "code",
      "execution_count": 53,
      "metadata": {
        "colab": {
          "base_uri": "https://localhost:8080/",
          "height": 836
        },
        "id": "0VUE5fGUA-76",
        "outputId": "8a67d5b4-1e0a-4f34-c41b-aafa36d860f5"
      },
      "outputs": [
        {
          "data": {
            "text/plain": [
              "id                        0\n",
              "title                     0\n",
              "vote_average              0\n",
              "vote_count                0\n",
              "status                    0\n",
              "release_date            480\n",
              "revenue                   0\n",
              "runtime                   0\n",
              "adult                     0\n",
              "backdrop_path             0\n",
              "budget                    0\n",
              "homepage                  0\n",
              "imdb_id                   0\n",
              "original_language         0\n",
              "original_title            0\n",
              "overview                  0\n",
              "popularity                0\n",
              "poster_path               0\n",
              "tagline                   0\n",
              "genres                    0\n",
              "production_companies      0\n",
              "production_countries      0\n",
              "spoken_languages          0\n",
              "keywords                  0\n",
              "dtype: int64"
            ]
          },
          "execution_count": 53,
          "metadata": {},
          "output_type": "execute_result"
        }
      ],
      "source": [
        "# Processing missing values\n",
        "\n",
        "df.isna().sum()"
      ]
    },
    {
      "cell_type": "code",
      "execution_count": 54,
      "metadata": {
        "colab": {
          "base_uri": "https://localhost:8080/",
          "height": 836
        },
        "id": "d2fjygGHBPGI",
        "outputId": "e0934e4e-3a55-43e2-aa4e-6d49432c8e58"
      },
      "outputs": [
        {
          "data": {
            "text/plain": [
              "id                        0\n",
              "title                     0\n",
              "vote_average              0\n",
              "vote_count                0\n",
              "status                    0\n",
              "release_date            480\n",
              "revenue                   0\n",
              "runtime                   0\n",
              "adult                     0\n",
              "backdrop_path             0\n",
              "budget                    0\n",
              "homepage                  0\n",
              "imdb_id                   0\n",
              "original_language         0\n",
              "original_title            0\n",
              "overview                  0\n",
              "popularity                0\n",
              "poster_path               0\n",
              "tagline                   0\n",
              "genres                    0\n",
              "production_companies      0\n",
              "production_countries      0\n",
              "spoken_languages          0\n",
              "keywords                  0\n",
              "dtype: int64"
            ]
          },
          "execution_count": 54,
          "metadata": {},
          "output_type": "execute_result"
        }
      ],
      "source": [
        "# Removing entries without title\n",
        "\n",
        "df.dropna(subset=['title'], inplace=True)\n",
        "df.isna().sum()"
      ]
    },
    {
      "cell_type": "code",
      "execution_count": 55,
      "metadata": {
        "colab": {
          "base_uri": "https://localhost:8080/",
          "height": 836
        },
        "id": "i9UekulhItcK",
        "outputId": "98a18e59-a4c6-4fe7-8e70-e0fa4c166c21"
      },
      "outputs": [
        {
          "data": {
            "text/plain": [
              "id                      0\n",
              "title                   0\n",
              "vote_average            0\n",
              "vote_count              0\n",
              "status                  0\n",
              "release_date            0\n",
              "revenue                 0\n",
              "runtime                 0\n",
              "adult                   0\n",
              "backdrop_path           0\n",
              "budget                  0\n",
              "homepage                0\n",
              "imdb_id                 0\n",
              "original_language       0\n",
              "original_title          0\n",
              "overview                0\n",
              "popularity              0\n",
              "poster_path             0\n",
              "tagline                 0\n",
              "genres                  0\n",
              "production_companies    0\n",
              "production_countries    0\n",
              "spoken_languages        0\n",
              "keywords                0\n",
              "dtype: int64"
            ]
          },
          "execution_count": 55,
          "metadata": {},
          "output_type": "execute_result"
        }
      ],
      "source": [
        "columns_with_na = ['release_date', 'backdrop_path', 'homepage', 'imdb_id', 'overview', 'poster_path', 'tagline', 'genres',\n",
        "                   'production_companies', 'production_countries', 'spoken_languages', 'keywords']\n",
        "\n",
        "# Add 'Unknown' as category\n",
        "for col in columns_with_na:\n",
        "  if df[col].dtype.name == 'category':\n",
        "    if 'Unknown' not in df[col].cat.categories:\n",
        "      df[col] = df[col].cat.add_categories('Unknown')\n",
        "\n",
        "# Filling NA values\n",
        "df[columns_with_na] = df[columns_with_na].fillna('Unknown')\n",
        "\n",
        "df.isna().sum()"
      ]
    },
    {
      "cell_type": "code",
      "execution_count": 56,
      "metadata": {
        "id": "zmTx2LZIh7cE"
      },
      "outputs": [],
      "source": [
        "# Saving processed csv file\n",
        "\n",
        "df.to_csv(\"data/movies.csv\", index=False)"
      ]
    }
  ],
  "metadata": {
    "colab": {
      "provenance": []
    },
    "kernelspec": {
      "display_name": "Python 3",
      "name": "python3"
    },
    "language_info": {
      "codemirror_mode": {
        "name": "ipython",
        "version": 3
      },
      "file_extension": ".py",
      "mimetype": "text/x-python",
      "name": "python",
      "nbconvert_exporter": "python",
      "pygments_lexer": "ipython3",
      "version": "3.12.6"
    }
  },
  "nbformat": 4,
  "nbformat_minor": 0
}
